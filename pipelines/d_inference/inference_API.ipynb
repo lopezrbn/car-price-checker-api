{
 "cells": [
  {
   "cell_type": "code",
   "execution_count": 3,
   "id": "c70ccd0b",
   "metadata": {},
   "outputs": [],
   "source": [
    "import requests"
   ]
  },
  {
   "cell_type": "code",
   "execution_count": 4,
   "id": "ab57a48e",
   "metadata": {},
   "outputs": [],
   "source": [
    "url = \"http://api.lopezrbn.com/predict\""
   ]
  },
  {
   "cell_type": "code",
   "execution_count": 5,
   "id": "50330638",
   "metadata": {},
   "outputs": [
    {
     "name": "stdout",
     "output_type": "stream",
     "text": [
      "Prediction: {'Predicted price': 16258.9775390625}\n"
     ]
    }
   ],
   "source": [
    "data = {\n",
    "    \"manufacturer\": \"audi\",\n",
    "    \"model\": \"a4\",\n",
    "    # \"version\": \"\",\n",
    "    \"month\": 11,\n",
    "    \"year\": 2017,\n",
    "    \"kms\": 130000,\n",
    "    \"fuel\": \"d\",\n",
    "    \"transmission\": \"m\",\n",
    "    \"power_hp\": 150,\n",
    "    # \"no_doors\": 5,\n",
    "    # \"color\": \"negro\",\n",
    "    # \"seller\": \"part\",\n",
    "}\n",
    "response = requests.post(url, json=data)\n",
    "if response.status_code == 200:\n",
    "    print(\"Prediction:\", response.json())\n",
    "else:\n",
    "    print(\"Error:\", response.status_code, response.text)"
   ]
  },
  {
   "cell_type": "code",
   "execution_count": null,
   "id": "7c0cc317",
   "metadata": {},
   "outputs": [],
   "source": []
  }
 ],
 "metadata": {
  "kernelspec": {
   "display_name": ".venv",
   "language": "python",
   "name": "python3"
  },
  "language_info": {
   "codemirror_mode": {
    "name": "ipython",
    "version": 3
   },
   "file_extension": ".py",
   "mimetype": "text/x-python",
   "name": "python",
   "nbconvert_exporter": "python",
   "pygments_lexer": "ipython3",
   "version": "3.10.12"
  }
 },
 "nbformat": 4,
 "nbformat_minor": 5
}
